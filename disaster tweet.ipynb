{
 "cells": [
  {
   "cell_type": "code",
   "execution_count": 18,
   "id": "e5c78e4c-7e42-4d47-8fc2-be4d9ed5ee06",
   "metadata": {},
   "outputs": [],
   "source": [
    "import pandas as pd\n",
    "import numpy as np\n",
    "train = pd.read_csv('train.csv')\n",
    "test = pd.read_csv('test.csv')"
   ]
  },
  {
   "cell_type": "code",
   "execution_count": 19,
   "id": "f7f252a0-e8c6-4121-95a8-981055533e0e",
   "metadata": {},
   "outputs": [],
   "source": [
    "import nltk\n",
    "from nltk.corpus import stopwords \n",
    "from nltk.stem import PorterStemmer as PS\n",
    "from nltk.tokenize import WordPunctTokenizer as WPT\n",
    "import re"
   ]
  },
  {
   "cell_type": "code",
   "execution_count": 21,
   "id": "f436e13d-fdbd-44c0-8287-886fe9252db5",
   "metadata": {},
   "outputs": [],
   "source": [
    "stopwords_list = stopwords.words('english')"
   ]
  },
  {
   "cell_type": "code",
   "execution_count": 22,
   "id": "eab5ec3d-f7a8-4d6d-8b98-091230d94c1e",
   "metadata": {},
   "outputs": [],
   "source": [
    "def clean_text(text):\n",
    "    text = re.sub(r'http\\S+', '', text)\n",
    "    text = re.sub(r'@\\S+', '', text)\n",
    "    text = re.sub(r'#\\S+', '', text)\n",
    "    text = re.sub(r'[^a-zA-Z0-9\\s]', '', text)\n",
    "    text = text.lower()\n",
    "    text = text.strip()\n",
    "    text = ' '.join([word for word in text.split() if word not in stopwords_list])\n",
    "    return text"
   ]
  },
  {
   "cell_type": "code",
   "execution_count": 23,
   "id": "0dcf1b37-69eb-4c60-a8a3-b7249654cc61",
   "metadata": {
    "collapsed": true,
    "jupyter": {
     "outputs_hidden": true
    },
    "tags": []
   },
   "outputs": [
    {
     "name": "stdout",
     "output_type": "stream",
     "text": [
      "Requirement already satisfied: sentence-transformers in c:\\users\\tomo1\\anaconda3\\lib\\site-packages (2.2.2)\n",
      "Requirement already satisfied: nltk in c:\\users\\tomo1\\anaconda3\\lib\\site-packages (from sentence-transformers) (3.7)\n",
      "Requirement already satisfied: torch>=1.6.0 in c:\\users\\tomo1\\anaconda3\\lib\\site-packages (from sentence-transformers) (2.0.1)\n",
      "Requirement already satisfied: sentencepiece in c:\\users\\tomo1\\anaconda3\\lib\\site-packages (from sentence-transformers) (0.1.99)\n",
      "Requirement already satisfied: torchvision in c:\\users\\tomo1\\anaconda3\\lib\\site-packages (from sentence-transformers) (0.15.2)\n",
      "Requirement already satisfied: huggingface-hub>=0.4.0 in c:\\users\\tomo1\\anaconda3\\lib\\site-packages (from sentence-transformers) (0.14.1)\n",
      "Requirement already satisfied: scikit-learn in c:\\users\\tomo1\\anaconda3\\lib\\site-packages (from sentence-transformers) (1.2.2)\n",
      "Requirement already satisfied: scipy in c:\\users\\tomo1\\anaconda3\\lib\\site-packages (from sentence-transformers) (1.10.1)\n",
      "Requirement already satisfied: tqdm in c:\\users\\tomo1\\anaconda3\\lib\\site-packages (from sentence-transformers) (4.65.0)\n",
      "Requirement already satisfied: numpy in c:\\users\\tomo1\\anaconda3\\lib\\site-packages (from sentence-transformers) (1.24.3)\n",
      "Requirement already satisfied: transformers<5.0.0,>=4.6.0 in c:\\users\\tomo1\\anaconda3\\lib\\site-packages (from sentence-transformers) (4.29.2)\n",
      "Requirement already satisfied: packaging>=20.9 in c:\\users\\tomo1\\anaconda3\\lib\\site-packages (from huggingface-hub>=0.4.0->sentence-transformers) (23.0)\n",
      "Requirement already satisfied: requests in c:\\users\\tomo1\\anaconda3\\lib\\site-packages (from huggingface-hub>=0.4.0->sentence-transformers) (2.29.0)\n",
      "Requirement already satisfied: typing-extensions>=3.7.4.3 in c:\\users\\tomo1\\anaconda3\\lib\\site-packages (from huggingface-hub>=0.4.0->sentence-transformers) (4.5.0)\n",
      "Requirement already satisfied: filelock in c:\\users\\tomo1\\anaconda3\\lib\\site-packages (from huggingface-hub>=0.4.0->sentence-transformers) (3.9.0)\n",
      "Requirement already satisfied: fsspec in c:\\users\\tomo1\\anaconda3\\lib\\site-packages (from huggingface-hub>=0.4.0->sentence-transformers) (2023.4.0)\n",
      "Requirement already satisfied: pyyaml>=5.1 in c:\\users\\tomo1\\anaconda3\\lib\\site-packages (from huggingface-hub>=0.4.0->sentence-transformers) (6.0)\n",
      "Requirement already satisfied: sympy in c:\\users\\tomo1\\anaconda3\\lib\\site-packages (from torch>=1.6.0->sentence-transformers) (1.11.1)\n",
      "Requirement already satisfied: jinja2 in c:\\users\\tomo1\\anaconda3\\lib\\site-packages (from torch>=1.6.0->sentence-transformers) (3.1.2)\n",
      "Requirement already satisfied: networkx in c:\\users\\tomo1\\anaconda3\\lib\\site-packages (from torch>=1.6.0->sentence-transformers) (2.8.4)\n",
      "Requirement already satisfied: colorama in c:\\users\\tomo1\\anaconda3\\lib\\site-packages (from tqdm->sentence-transformers) (0.4.6)\n",
      "Requirement already satisfied: tokenizers!=0.11.3,<0.14,>=0.11.1 in c:\\users\\tomo1\\anaconda3\\lib\\site-packages (from transformers<5.0.0,>=4.6.0->sentence-transformers) (0.13.3)\n",
      "Requirement already satisfied: regex!=2019.12.17 in c:\\users\\tomo1\\anaconda3\\lib\\site-packages (from transformers<5.0.0,>=4.6.0->sentence-transformers) (2022.7.9)\n",
      "Requirement already satisfied: joblib in c:\\users\\tomo1\\anaconda3\\lib\\site-packages (from nltk->sentence-transformers) (1.1.1)\n",
      "Requirement already satisfied: click in c:\\users\\tomo1\\anaconda3\\lib\\site-packages (from nltk->sentence-transformers) (8.0.4)\n",
      "Requirement already satisfied: threadpoolctl>=2.0.0 in c:\\users\\tomo1\\anaconda3\\lib\\site-packages (from scikit-learn->sentence-transformers) (2.2.0)\n",
      "Requirement already satisfied: pillow!=8.3.*,>=5.3.0 in c:\\users\\tomo1\\anaconda3\\lib\\site-packages (from torchvision->sentence-transformers) (9.4.0)\n",
      "Requirement already satisfied: MarkupSafe>=2.0 in c:\\users\\tomo1\\anaconda3\\lib\\site-packages (from jinja2->torch>=1.6.0->sentence-transformers) (2.1.1)\n",
      "Requirement already satisfied: certifi>=2017.4.17 in c:\\users\\tomo1\\anaconda3\\lib\\site-packages (from requests->huggingface-hub>=0.4.0->sentence-transformers) (2023.5.7)\n",
      "Requirement already satisfied: charset-normalizer<4,>=2 in c:\\users\\tomo1\\anaconda3\\lib\\site-packages (from requests->huggingface-hub>=0.4.0->sentence-transformers) (2.0.4)\n",
      "Requirement already satisfied: urllib3<1.27,>=1.21.1 in c:\\users\\tomo1\\anaconda3\\lib\\site-packages (from requests->huggingface-hub>=0.4.0->sentence-transformers) (1.26.15)\n",
      "Requirement already satisfied: idna<4,>=2.5 in c:\\users\\tomo1\\anaconda3\\lib\\site-packages (from requests->huggingface-hub>=0.4.0->sentence-transformers) (3.4)\n",
      "Requirement already satisfied: mpmath>=0.19 in c:\\users\\tomo1\\anaconda3\\lib\\site-packages (from sympy->torch>=1.6.0->sentence-transformers) (1.2.1)\n"
     ]
    }
   ],
   "source": [
    "!pip install -U sentence-transformers"
   ]
  },
  {
   "cell_type": "code",
   "execution_count": 24,
   "id": "6a73530b-ca39-4b7e-9a33-42c1e0e54010",
   "metadata": {},
   "outputs": [],
   "source": [
    "from sentence_transformers import SentenceTransformer\n",
    "enc_model = SentenceTransformer('paraphrase-MiniLM-L6-v2')"
   ]
  },
  {
   "cell_type": "code",
   "execution_count": 25,
   "id": "5dd56943-ea2d-4178-980e-fd422ad32f40",
   "metadata": {},
   "outputs": [],
   "source": [
    "train_val = pd.read_csv('train.csv')\n",
    "test_val = pd.read_csv('test.csv')"
   ]
  },
  {
   "cell_type": "code",
   "execution_count": 26,
   "id": "a00bdce1-6c52-4fed-85b2-56fa4b90947e",
   "metadata": {},
   "outputs": [],
   "source": [
    "from sklearn.metrics import accuracy_score\n",
    "from sklearn.model_selection import train_test_split\n",
    "from sklearn.svm import SVC\n",
    "\n",
    "from unidecode import unidecode\n",
    "X_train_val = train['text'].apply(unidecode).to_numpy()\n",
    "X_test = test['text'].apply(unidecode).to_numpy()\n",
    "\n",
    "y_train_val = train_val.target.to_numpy()"
   ]
  },
  {
   "cell_type": "code",
   "execution_count": 27,
   "id": "fff7d7e0-a9a5-4a66-a2ba-ffc5a425ef61",
   "metadata": {},
   "outputs": [],
   "source": [
    "X_train, X_val, y_train, y_val = train_test_split(X_train_val, y_train_val, test_size=0.1, random_state=42)"
   ]
  },
  {
   "cell_type": "code",
   "execution_count": 28,
   "id": "91ca84b4-2637-40af-9300-7b4d6898bb84",
   "metadata": {},
   "outputs": [],
   "source": [
    "X_train = enc_model.encode(X_train)\n",
    "X_val = enc_model.encode(X_val)\n",
    "X_test = enc_model.encode(X_test)"
   ]
  },
  {
   "cell_type": "code",
   "execution_count": 29,
   "id": "4670e0d8-bcdc-41bf-b45e-12f2da6e0335",
   "metadata": {},
   "outputs": [
    {
     "data": {
      "text/html": [
       "<style>#sk-container-id-1 {color: black;background-color: white;}#sk-container-id-1 pre{padding: 0;}#sk-container-id-1 div.sk-toggleable {background-color: white;}#sk-container-id-1 label.sk-toggleable__label {cursor: pointer;display: block;width: 100%;margin-bottom: 0;padding: 0.3em;box-sizing: border-box;text-align: center;}#sk-container-id-1 label.sk-toggleable__label-arrow:before {content: \"▸\";float: left;margin-right: 0.25em;color: #696969;}#sk-container-id-1 label.sk-toggleable__label-arrow:hover:before {color: black;}#sk-container-id-1 div.sk-estimator:hover label.sk-toggleable__label-arrow:before {color: black;}#sk-container-id-1 div.sk-toggleable__content {max-height: 0;max-width: 0;overflow: hidden;text-align: left;background-color: #f0f8ff;}#sk-container-id-1 div.sk-toggleable__content pre {margin: 0.2em;color: black;border-radius: 0.25em;background-color: #f0f8ff;}#sk-container-id-1 input.sk-toggleable__control:checked~div.sk-toggleable__content {max-height: 200px;max-width: 100%;overflow: auto;}#sk-container-id-1 input.sk-toggleable__control:checked~label.sk-toggleable__label-arrow:before {content: \"▾\";}#sk-container-id-1 div.sk-estimator input.sk-toggleable__control:checked~label.sk-toggleable__label {background-color: #d4ebff;}#sk-container-id-1 div.sk-label input.sk-toggleable__control:checked~label.sk-toggleable__label {background-color: #d4ebff;}#sk-container-id-1 input.sk-hidden--visually {border: 0;clip: rect(1px 1px 1px 1px);clip: rect(1px, 1px, 1px, 1px);height: 1px;margin: -1px;overflow: hidden;padding: 0;position: absolute;width: 1px;}#sk-container-id-1 div.sk-estimator {font-family: monospace;background-color: #f0f8ff;border: 1px dotted black;border-radius: 0.25em;box-sizing: border-box;margin-bottom: 0.5em;}#sk-container-id-1 div.sk-estimator:hover {background-color: #d4ebff;}#sk-container-id-1 div.sk-parallel-item::after {content: \"\";width: 100%;border-bottom: 1px solid gray;flex-grow: 1;}#sk-container-id-1 div.sk-label:hover label.sk-toggleable__label {background-color: #d4ebff;}#sk-container-id-1 div.sk-serial::before {content: \"\";position: absolute;border-left: 1px solid gray;box-sizing: border-box;top: 0;bottom: 0;left: 50%;z-index: 0;}#sk-container-id-1 div.sk-serial {display: flex;flex-direction: column;align-items: center;background-color: white;padding-right: 0.2em;padding-left: 0.2em;position: relative;}#sk-container-id-1 div.sk-item {position: relative;z-index: 1;}#sk-container-id-1 div.sk-parallel {display: flex;align-items: stretch;justify-content: center;background-color: white;position: relative;}#sk-container-id-1 div.sk-item::before, #sk-container-id-1 div.sk-parallel-item::before {content: \"\";position: absolute;border-left: 1px solid gray;box-sizing: border-box;top: 0;bottom: 0;left: 50%;z-index: -1;}#sk-container-id-1 div.sk-parallel-item {display: flex;flex-direction: column;z-index: 1;position: relative;background-color: white;}#sk-container-id-1 div.sk-parallel-item:first-child::after {align-self: flex-end;width: 50%;}#sk-container-id-1 div.sk-parallel-item:last-child::after {align-self: flex-start;width: 50%;}#sk-container-id-1 div.sk-parallel-item:only-child::after {width: 0;}#sk-container-id-1 div.sk-dashed-wrapped {border: 1px dashed gray;margin: 0 0.4em 0.5em 0.4em;box-sizing: border-box;padding-bottom: 0.4em;background-color: white;}#sk-container-id-1 div.sk-label label {font-family: monospace;font-weight: bold;display: inline-block;line-height: 1.2em;}#sk-container-id-1 div.sk-label-container {text-align: center;}#sk-container-id-1 div.sk-container {/* jupyter's `normalize.less` sets `[hidden] { display: none; }` but bootstrap.min.css set `[hidden] { display: none !important; }` so we also need the `!important` here to be able to override the default hidden behavior on the sphinx rendered scikit-learn.org. See: https://github.com/scikit-learn/scikit-learn/issues/21755 */display: inline-block !important;position: relative;}#sk-container-id-1 div.sk-text-repr-fallback {display: none;}</style><div id=\"sk-container-id-1\" class=\"sk-top-container\"><div class=\"sk-text-repr-fallback\"><pre>RandomForestClassifier(n_estimators=140)</pre><b>In a Jupyter environment, please rerun this cell to show the HTML representation or trust the notebook. <br />On GitHub, the HTML representation is unable to render, please try loading this page with nbviewer.org.</b></div><div class=\"sk-container\" hidden><div class=\"sk-item\"><div class=\"sk-estimator sk-toggleable\"><input class=\"sk-toggleable__control sk-hidden--visually\" id=\"sk-estimator-id-1\" type=\"checkbox\" checked><label for=\"sk-estimator-id-1\" class=\"sk-toggleable__label sk-toggleable__label-arrow\">RandomForestClassifier</label><div class=\"sk-toggleable__content\"><pre>RandomForestClassifier(n_estimators=140)</pre></div></div></div></div></div>"
      ],
      "text/plain": [
       "RandomForestClassifier(n_estimators=140)"
      ]
     },
     "execution_count": 29,
     "metadata": {},
     "output_type": "execute_result"
    }
   ],
   "source": [
    "from sklearn.ensemble import RandomForestClassifier\n",
    "model = RandomForestClassifier(n_estimators=140)\n",
    "model.fit(X_train, y_train)"
   ]
  },
  {
   "cell_type": "code",
   "execution_count": 31,
   "id": "ef37555b-b004-4945-88a2-e212aaabdf54",
   "metadata": {},
   "outputs": [
    {
     "name": "stdout",
     "output_type": "stream",
     "text": [
      "[1]\tvalid_0's binary_logloss: 0.660657\n",
      "[2]\tvalid_0's binary_logloss: 0.640101\n",
      "[3]\tvalid_0's binary_logloss: 0.620156\n",
      "[4]\tvalid_0's binary_logloss: 0.602978\n",
      "[5]\tvalid_0's binary_logloss: 0.588768\n",
      "[6]\tvalid_0's binary_logloss: 0.575545\n",
      "[7]\tvalid_0's binary_logloss: 0.562111\n",
      "[8]\tvalid_0's binary_logloss: 0.551972\n",
      "[9]\tvalid_0's binary_logloss: 0.54307\n",
      "[10]\tvalid_0's binary_logloss: 0.532639\n",
      "[11]\tvalid_0's binary_logloss: 0.524958\n",
      "[12]\tvalid_0's binary_logloss: 0.51687\n",
      "[13]\tvalid_0's binary_logloss: 0.510189\n",
      "[14]\tvalid_0's binary_logloss: 0.504343\n",
      "[15]\tvalid_0's binary_logloss: 0.498209\n",
      "[16]\tvalid_0's binary_logloss: 0.493624\n",
      "[17]\tvalid_0's binary_logloss: 0.487509\n",
      "[18]\tvalid_0's binary_logloss: 0.482988\n",
      "[19]\tvalid_0's binary_logloss: 0.47897\n",
      "[20]\tvalid_0's binary_logloss: 0.476068\n",
      "[21]\tvalid_0's binary_logloss: 0.471369\n",
      "[22]\tvalid_0's binary_logloss: 0.468071\n",
      "[23]\tvalid_0's binary_logloss: 0.466052\n",
      "[24]\tvalid_0's binary_logloss: 0.463397\n",
      "[25]\tvalid_0's binary_logloss: 0.460376\n",
      "[26]\tvalid_0's binary_logloss: 0.459718\n",
      "[27]\tvalid_0's binary_logloss: 0.458581\n",
      "[28]\tvalid_0's binary_logloss: 0.458086\n",
      "[29]\tvalid_0's binary_logloss: 0.457515\n",
      "[30]\tvalid_0's binary_logloss: 0.454412\n",
      "[31]\tvalid_0's binary_logloss: 0.45433\n",
      "[32]\tvalid_0's binary_logloss: 0.453852\n",
      "[33]\tvalid_0's binary_logloss: 0.451936\n",
      "[34]\tvalid_0's binary_logloss: 0.451583\n",
      "[35]\tvalid_0's binary_logloss: 0.451024\n",
      "[36]\tvalid_0's binary_logloss: 0.450865\n",
      "[37]\tvalid_0's binary_logloss: 0.449253\n",
      "[38]\tvalid_0's binary_logloss: 0.447488\n",
      "[39]\tvalid_0's binary_logloss: 0.446237\n",
      "[40]\tvalid_0's binary_logloss: 0.445869\n",
      "[41]\tvalid_0's binary_logloss: 0.445397\n",
      "[42]\tvalid_0's binary_logloss: 0.444451\n",
      "[43]\tvalid_0's binary_logloss: 0.444648\n",
      "[44]\tvalid_0's binary_logloss: 0.443114\n",
      "[45]\tvalid_0's binary_logloss: 0.441605\n",
      "[46]\tvalid_0's binary_logloss: 0.440738\n",
      "[47]\tvalid_0's binary_logloss: 0.44048\n",
      "[48]\tvalid_0's binary_logloss: 0.441136\n",
      "[49]\tvalid_0's binary_logloss: 0.440278\n",
      "[50]\tvalid_0's binary_logloss: 0.440443\n",
      "[51]\tvalid_0's binary_logloss: 0.440151\n",
      "[52]\tvalid_0's binary_logloss: 0.4403\n",
      "[53]\tvalid_0's binary_logloss: 0.439319\n",
      "[54]\tvalid_0's binary_logloss: 0.439804\n",
      "[55]\tvalid_0's binary_logloss: 0.439286\n",
      "[56]\tvalid_0's binary_logloss: 0.439242\n",
      "[57]\tvalid_0's binary_logloss: 0.439046\n",
      "[58]\tvalid_0's binary_logloss: 0.440779\n",
      "[59]\tvalid_0's binary_logloss: 0.440233\n",
      "[60]\tvalid_0's binary_logloss: 0.440019\n",
      "[61]\tvalid_0's binary_logloss: 0.439437\n",
      "[62]\tvalid_0's binary_logloss: 0.43915\n",
      "[63]\tvalid_0's binary_logloss: 0.43963\n",
      "[64]\tvalid_0's binary_logloss: 0.440119\n",
      "[65]\tvalid_0's binary_logloss: 0.441308\n",
      "[66]\tvalid_0's binary_logloss: 0.440072\n",
      "[67]\tvalid_0's binary_logloss: 0.440788\n",
      "[68]\tvalid_0's binary_logloss: 0.440143\n",
      "[69]\tvalid_0's binary_logloss: 0.440586\n",
      "[70]\tvalid_0's binary_logloss: 0.441048\n",
      "[71]\tvalid_0's binary_logloss: 0.442016\n",
      "[72]\tvalid_0's binary_logloss: 0.442145\n",
      "[73]\tvalid_0's binary_logloss: 0.442728\n",
      "[74]\tvalid_0's binary_logloss: 0.443183\n",
      "[75]\tvalid_0's binary_logloss: 0.44358\n",
      "[76]\tvalid_0's binary_logloss: 0.443573\n",
      "[77]\tvalid_0's binary_logloss: 0.443233\n",
      "[78]\tvalid_0's binary_logloss: 0.442215\n",
      "[79]\tvalid_0's binary_logloss: 0.442401\n",
      "[80]\tvalid_0's binary_logloss: 0.443127\n",
      "[81]\tvalid_0's binary_logloss: 0.443459\n",
      "[82]\tvalid_0's binary_logloss: 0.443799\n",
      "[83]\tvalid_0's binary_logloss: 0.443801\n",
      "[84]\tvalid_0's binary_logloss: 0.443446\n",
      "[85]\tvalid_0's binary_logloss: 0.442676\n",
      "[86]\tvalid_0's binary_logloss: 0.442838\n",
      "[87]\tvalid_0's binary_logloss: 0.442551\n",
      "[88]\tvalid_0's binary_logloss: 0.442968\n",
      "[89]\tvalid_0's binary_logloss: 0.443621\n",
      "[90]\tvalid_0's binary_logloss: 0.443009\n",
      "[91]\tvalid_0's binary_logloss: 0.443096\n",
      "[92]\tvalid_0's binary_logloss: 0.44337\n",
      "[93]\tvalid_0's binary_logloss: 0.443398\n",
      "[94]\tvalid_0's binary_logloss: 0.442791\n",
      "[95]\tvalid_0's binary_logloss: 0.442294\n",
      "[96]\tvalid_0's binary_logloss: 0.443159\n",
      "[97]\tvalid_0's binary_logloss: 0.442838\n",
      "[98]\tvalid_0's binary_logloss: 0.442897\n",
      "[99]\tvalid_0's binary_logloss: 0.44364\n",
      "[100]\tvalid_0's binary_logloss: 0.443334\n"
     ]
    },
    {
     "data": {
      "text/html": [
       "<style>#sk-container-id-2 {color: black;background-color: white;}#sk-container-id-2 pre{padding: 0;}#sk-container-id-2 div.sk-toggleable {background-color: white;}#sk-container-id-2 label.sk-toggleable__label {cursor: pointer;display: block;width: 100%;margin-bottom: 0;padding: 0.3em;box-sizing: border-box;text-align: center;}#sk-container-id-2 label.sk-toggleable__label-arrow:before {content: \"▸\";float: left;margin-right: 0.25em;color: #696969;}#sk-container-id-2 label.sk-toggleable__label-arrow:hover:before {color: black;}#sk-container-id-2 div.sk-estimator:hover label.sk-toggleable__label-arrow:before {color: black;}#sk-container-id-2 div.sk-toggleable__content {max-height: 0;max-width: 0;overflow: hidden;text-align: left;background-color: #f0f8ff;}#sk-container-id-2 div.sk-toggleable__content pre {margin: 0.2em;color: black;border-radius: 0.25em;background-color: #f0f8ff;}#sk-container-id-2 input.sk-toggleable__control:checked~div.sk-toggleable__content {max-height: 200px;max-width: 100%;overflow: auto;}#sk-container-id-2 input.sk-toggleable__control:checked~label.sk-toggleable__label-arrow:before {content: \"▾\";}#sk-container-id-2 div.sk-estimator input.sk-toggleable__control:checked~label.sk-toggleable__label {background-color: #d4ebff;}#sk-container-id-2 div.sk-label input.sk-toggleable__control:checked~label.sk-toggleable__label {background-color: #d4ebff;}#sk-container-id-2 input.sk-hidden--visually {border: 0;clip: rect(1px 1px 1px 1px);clip: rect(1px, 1px, 1px, 1px);height: 1px;margin: -1px;overflow: hidden;padding: 0;position: absolute;width: 1px;}#sk-container-id-2 div.sk-estimator {font-family: monospace;background-color: #f0f8ff;border: 1px dotted black;border-radius: 0.25em;box-sizing: border-box;margin-bottom: 0.5em;}#sk-container-id-2 div.sk-estimator:hover {background-color: #d4ebff;}#sk-container-id-2 div.sk-parallel-item::after {content: \"\";width: 100%;border-bottom: 1px solid gray;flex-grow: 1;}#sk-container-id-2 div.sk-label:hover label.sk-toggleable__label {background-color: #d4ebff;}#sk-container-id-2 div.sk-serial::before {content: \"\";position: absolute;border-left: 1px solid gray;box-sizing: border-box;top: 0;bottom: 0;left: 50%;z-index: 0;}#sk-container-id-2 div.sk-serial {display: flex;flex-direction: column;align-items: center;background-color: white;padding-right: 0.2em;padding-left: 0.2em;position: relative;}#sk-container-id-2 div.sk-item {position: relative;z-index: 1;}#sk-container-id-2 div.sk-parallel {display: flex;align-items: stretch;justify-content: center;background-color: white;position: relative;}#sk-container-id-2 div.sk-item::before, #sk-container-id-2 div.sk-parallel-item::before {content: \"\";position: absolute;border-left: 1px solid gray;box-sizing: border-box;top: 0;bottom: 0;left: 50%;z-index: -1;}#sk-container-id-2 div.sk-parallel-item {display: flex;flex-direction: column;z-index: 1;position: relative;background-color: white;}#sk-container-id-2 div.sk-parallel-item:first-child::after {align-self: flex-end;width: 50%;}#sk-container-id-2 div.sk-parallel-item:last-child::after {align-self: flex-start;width: 50%;}#sk-container-id-2 div.sk-parallel-item:only-child::after {width: 0;}#sk-container-id-2 div.sk-dashed-wrapped {border: 1px dashed gray;margin: 0 0.4em 0.5em 0.4em;box-sizing: border-box;padding-bottom: 0.4em;background-color: white;}#sk-container-id-2 div.sk-label label {font-family: monospace;font-weight: bold;display: inline-block;line-height: 1.2em;}#sk-container-id-2 div.sk-label-container {text-align: center;}#sk-container-id-2 div.sk-container {/* jupyter's `normalize.less` sets `[hidden] { display: none; }` but bootstrap.min.css set `[hidden] { display: none !important; }` so we also need the `!important` here to be able to override the default hidden behavior on the sphinx rendered scikit-learn.org. See: https://github.com/scikit-learn/scikit-learn/issues/21755 */display: inline-block !important;position: relative;}#sk-container-id-2 div.sk-text-repr-fallback {display: none;}</style><div id=\"sk-container-id-2\" class=\"sk-top-container\"><div class=\"sk-text-repr-fallback\"><pre>LGBMClassifier(random_state=50)</pre><b>In a Jupyter environment, please rerun this cell to show the HTML representation or trust the notebook. <br />On GitHub, the HTML representation is unable to render, please try loading this page with nbviewer.org.</b></div><div class=\"sk-container\" hidden><div class=\"sk-item\"><div class=\"sk-estimator sk-toggleable\"><input class=\"sk-toggleable__control sk-hidden--visually\" id=\"sk-estimator-id-2\" type=\"checkbox\" checked><label for=\"sk-estimator-id-2\" class=\"sk-toggleable__label sk-toggleable__label-arrow\">LGBMClassifier</label><div class=\"sk-toggleable__content\"><pre>LGBMClassifier(random_state=50)</pre></div></div></div></div></div>"
      ],
      "text/plain": [
       "LGBMClassifier(random_state=50)"
      ]
     },
     "execution_count": 31,
     "metadata": {},
     "output_type": "execute_result"
    }
   ],
   "source": [
    "import lightgbm as lgb\n",
    "model = lgb.LGBMClassifier(learning_rate=0.1,random_state=50)\n",
    "model.fit(X_train, y_train,eval_set=(X_val,y_val),\n",
    "          eval_metric='accuracy')"
   ]
  },
  {
   "cell_type": "code",
   "execution_count": 32,
   "id": "a0784085-5866-4f2f-969b-7f61fbbfb158",
   "metadata": {},
   "outputs": [
    {
     "name": "stdout",
     "output_type": "stream",
     "text": [
      "Validation accuracy is: 80.84%\n"
     ]
    }
   ],
   "source": [
    "val_ans = model.predict(X_val)\n",
    "val_acc = accuracy_score(y_val, val_ans) * 100\n",
    "\n",
    "print(f\"Validation accuracy is: {val_acc:.2f}%\")"
   ]
  },
  {
   "cell_type": "code",
   "execution_count": 33,
   "id": "fb13f23d-4063-4632-ad58-cdcc29906ba9",
   "metadata": {},
   "outputs": [],
   "source": [
    "test_ans = model.predict(X_test)\n",
    "submission_df = pd.DataFrame({\"id\": test.id, \"target\": test_ans})"
   ]
  },
  {
   "cell_type": "code",
   "execution_count": 34,
   "id": "fd141699-69eb-464d-ac90-de1a81263c0a",
   "metadata": {},
   "outputs": [],
   "source": [
    "submission_df.to_csv(\"submission.csv\", index=False)"
   ]
  },
  {
   "cell_type": "code",
   "execution_count": null,
   "id": "806e5958-bf0c-4820-9e73-f3d93abc890e",
   "metadata": {},
   "outputs": [],
   "source": []
  }
 ],
 "metadata": {
  "kernelspec": {
   "display_name": "Python 3 (ipykernel)",
   "language": "python",
   "name": "python3"
  },
  "language_info": {
   "codemirror_mode": {
    "name": "ipython",
    "version": 3
   },
   "file_extension": ".py",
   "mimetype": "text/x-python",
   "name": "python",
   "nbconvert_exporter": "python",
   "pygments_lexer": "ipython3",
   "version": "3.9.13"
  }
 },
 "nbformat": 4,
 "nbformat_minor": 5
}
